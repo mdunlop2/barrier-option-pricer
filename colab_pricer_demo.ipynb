{
  "nbformat": 4,
  "nbformat_minor": 0,
  "metadata": {
    "colab": {
      "name": "colab_pricer_demo.ipynb",
      "version": "0.3.2",
      "provenance": [],
      "collapsed_sections": [],
      "toc_visible": true,
      "include_colab_link": true
    },
    "kernelspec": {
      "name": "python3",
      "display_name": "Python 3"
    },
    "accelerator": "GPU"
  },
  "cells": [
    {
      "cell_type": "markdown",
      "metadata": {
        "id": "view-in-github",
        "colab_type": "text"
      },
      "source": [
        "<a href=\"https://colab.research.google.com/github/mdunlop2/barrier-option-pricer/blob/master/colab_pricer_demo.ipynb\" target=\"_parent\"><img src=\"https://colab.research.google.com/assets/colab-badge.svg\" alt=\"Open In Colab\"/></a>"
      ]
    },
    {
      "cell_type": "markdown",
      "metadata": {
        "id": "SSbMzDopY2UY",
        "colab_type": "text"
      },
      "source": [
        "# Setup and Imports"
      ]
    },
    {
      "cell_type": "code",
      "metadata": {
        "id": "TYRwYFM7hRxD",
        "colab_type": "code",
        "outputId": "a97ffb5e-655b-4aba-b905-85ec69c42533",
        "colab": {
          "base_uri": "https://localhost:8080/",
          "height": 86
        }
      },
      "source": [
        "# General Imports\n",
        "import math as m\n",
        "import numpy as np\n",
        "import matplotlib.pyplot as plt\n",
        "import time\n",
        "\n",
        "import pandas as pd\n",
        "\n",
        "%load_ext Cython\n",
        "\n",
        "try:\n",
        "  import pytorch\n",
        "except:\n",
        "  !pip install -q torch==1.1.0 torchvision==0.3.0\n",
        "  import torch\n",
        "  print(torch.__version__)"
      ],
      "execution_count": 0,
      "outputs": [
        {
          "output_type": "stream",
          "text": [
            "The Cython extension is already loaded. To reload it, use:\n",
            "  %reload_ext Cython\n",
            "\u001b[K     |████████████████████████████████| 676.9MB 24kB/s \n",
            "\u001b[?25h1.0.0\n"
          ],
          "name": "stdout"
        }
      ]
    },
    {
      "cell_type": "markdown",
      "metadata": {
        "id": "WCeAW7UJY6ak",
        "colab_type": "text"
      },
      "source": [
        "## Strongly Typed Payoff"
      ]
    },
    {
      "cell_type": "code",
      "metadata": {
        "id": "I-9fO7VGV25d",
        "colab_type": "code",
        "colab": {}
      },
      "source": [
        " %%cython\n",
        "\n",
        "# Barrier Option Payoff Code\n",
        "# 5 April 2019\n",
        "# Matthew Dunlop\n",
        "cimport numpy as np\n",
        "import numpy as np\n",
        "\n",
        "cpdef np.ndarray[double] typed_payoff(np.ndarray S_val,\n",
        "                                       np.ndarray counter1,\n",
        "                                       np.ndarray counter2,\n",
        "                                      double K):\n",
        "#   assert (S_val.dtype == np.float\n",
        "#          and counter1.dtype == np.int\n",
        "#          and counter2.dtype == np.int)\n",
        "  cdef Py_ssize_t i, n = len(counter1)\n",
        "  assert (len(S_val) == len(counter2) == n)\n",
        "  cdef np.ndarray[double] payoff = np.empty(n)\n",
        "  for i in range(n):\n",
        "    if (S_val[i,-1] > K) and (counter2[i] >= 150):\n",
        "        payoff[i] = S_val[i,-1] - K + 20\n",
        "    elif (S_val[i,-1] > K) and (counter1[i] >= 100) and (counter2[i] < 150):\n",
        "        payoff[i] = S_val[i,-1] - K\n",
        "    elif (S_val[i,-1] > K) and (counter1[i] < 100):\n",
        "        payoff[i]= 10\n",
        "    else:\n",
        "        payoff[i] = 0\n",
        "  return payoff\n",
        " "
      ],
      "execution_count": 0,
      "outputs": []
    },
    {
      "cell_type": "markdown",
      "metadata": {
        "id": "xulbt2RmUwwi",
        "colab_type": "text"
      },
      "source": [
        "## Monte Carlo Functions"
      ]
    },
    {
      "cell_type": "markdown",
      "metadata": {
        "id": "RYurdUNbjcTY",
        "colab_type": "text"
      },
      "source": [
        "### Pricing Functions"
      ]
    },
    {
      "cell_type": "code",
      "metadata": {
        "id": "4p1MHzD4izQR",
        "colab_type": "code",
        "colab": {}
      },
      "source": [
        "def Crude_Monte_Carlo(S = 60, K = 50, H1 = 65, H2 = 85, r = .05, T = 1,\n",
        "                          sigma = .3, n = 260, nr = 4000,\n",
        "                     nu = 1, dt=1):\n",
        "  '''\n",
        "  #####################################################\n",
        "  INPUTS:\n",
        "  S, K, H1, H2, r, T, sigma, n, nr have usual meanings\n",
        "  \n",
        "  #####################################################\n",
        "  OUTPUTS:\n",
        "  S_val    :\n",
        "  payoff   :\n",
        "  counter1 :\n",
        "  counter2 :\n",
        "  \n",
        "  '''\n",
        "  payoff = np.zeros((nr,1))\n",
        "  \n",
        "  # instantiate result, payoff, and random matrices\n",
        "  S_val = np.zeros((nr,n+1))\n",
        "  rand = np.random.randn(nr,n)\n",
        "  \n",
        "\n",
        "  # instantiate counter matrices\n",
        "  counter1 = np.zeros((nr,1))\n",
        "  counter2 = np.zeros((nr,1))\n",
        "  \n",
        "  # simulate stock price via MC (and increment counters)\n",
        "  S_val[:,0] = S\n",
        "  for i in range(nr):\n",
        "      for j in range(1,n+1):\n",
        "          S_val[i,j] = S_val[i,j-1] * m.exp(nu*dt + sigma * dt **.5 * rand[i,j-1])\n",
        "\n",
        "          if S_val[i,j] > H2:\n",
        "              counter1[i] += 1\n",
        "              counter2[i] += 1\n",
        "          elif S_val[i,j] > H1:\n",
        "              counter1[i] += 1\n",
        "\n",
        "  # compute payoff of each sim\n",
        "  for i in range(nr):\n",
        "      if (S_val[i,-1] > K) and (counter2[i] >= 150):\n",
        "          payoff[i] = S_val[i,-1] - K + 20\n",
        "      elif (S_val[i,-1] > K) and (counter1[i] >= 100) and (counter2[i] < 150):\n",
        "          payoff[i] = S_val[i,-1] - K\n",
        "      elif (S_val[i,-1] > K) and (counter1[i] < 100):\n",
        "          payoff[i]= 10\n",
        "      else:\n",
        "          payoff[i] = 0\n",
        "  return S_val, payoff, counter1, counter2"
      ],
      "execution_count": 0,
      "outputs": []
    },
    {
      "cell_type": "code",
      "metadata": {
        "id": "7jghQJEji9qt",
        "colab_type": "code",
        "colab": {}
      },
      "source": [
        "def AVT_Monte_Carlo(S = 60, K = 50, H1 = 65, H2 = 85, r = .05, T = 1,\n",
        "                          sigma = .3, n = 260, nr = 4000,\n",
        "                     nu = 1, dt=1):\n",
        "  '''\n",
        "  #####################################################\n",
        "  INPUTS:\n",
        "  S, K, H1, H2, r, T, sigma, n, nr have usual meanings\n",
        "  \n",
        "  #####################################################\n",
        "  OUTPUTS:\n",
        "  S_val    :\n",
        "  payoff   :\n",
        "  counter1 :\n",
        "  counter2 :\n",
        "  \n",
        "  '''\n",
        "  payoff = np.zeros(( int(nr/2), 1))\n",
        "  \n",
        "  # instantiate result, payoff, and random matrices\n",
        "  S_val = np.zeros((nr,n+1))\n",
        "  rand = np.random.randn(int(nr/2),n)\n",
        "  \n",
        "  # instantiate counter matrices\n",
        "  counter1 = np.zeros((nr,1))\n",
        "  counter2 = np.zeros((nr,1))\n",
        "  \n",
        "  # simulate stock price via MC (and increment counters)\n",
        "  S_val[:,0] = S\n",
        "  for i in range(0, nr, 2):\n",
        "      # taking two steps at a time in the share value dataframe\n",
        "      for j in range(1,n+1):\n",
        "          S_val[i,j] = S_val[i,j-1] * m.exp(nu*dt + sigma * dt**0.5 * rand[int(i/2),j-1])\n",
        "          S_val[i+1,j] = S_val[i+1,j-1] * m.exp(nu*dt - sigma * dt**0.5 * rand[int(i/2),j-1])\n",
        "\n",
        "          if S_val[i,j] > H2:\n",
        "              counter1[i] += 1\n",
        "              counter2[i] += 1\n",
        "          elif S_val[i,j] > H1:\n",
        "              counter1[i] += 1\n",
        "          # repeat for the antithetic row:\n",
        "          if S_val[i+1,j] > H2:\n",
        "              counter1[i+1] += 1 # counter for the antithetic row\n",
        "              counter2[i+1] += 1\n",
        "          elif S_val[i+1,j] > H1:\n",
        "              counter1[i+1] += 1\n",
        "\n",
        "  # compute payoff of each sim\n",
        "  for i in range(0, nr, 2):\n",
        "      # Want to take average of positive and negative paths to save memory\n",
        "      if (S_val[i,-1] > K) and (counter2[i] >= 150):\n",
        "          # payoff[i] = S_val[i,-1] - K + 20\n",
        "          p = S_val[i,-1] - K + 20\n",
        "      elif (S_val[i,-1] > K) and (counter1[i] >= 100) and (counter2[i] < 150):\n",
        "          # payoff[i] = S_val[i,-1] - K\n",
        "          p = S_val[i,-1] - K\n",
        "      elif (S_val[i,-1] > K) and (counter1[i] < 100):\n",
        "          # payoff[i]= 10\n",
        "          p = 10\n",
        "      else:\n",
        "          # payoff[i] = 0 # not necessary b/c all were initialized to 0\n",
        "          p = 0\n",
        "\n",
        "          # now payoff for the negative path:\n",
        "      if (S_val[i+1,-1] > K) and (counter2[i+1] >= 150):\n",
        "          # payoff[i] = S_val[i,-1] - K + 20\n",
        "          n = S_val[i+1,-1] - K + 20\n",
        "      elif (S_val[i+1,-1] > K) and (counter1[i+1] >= 100) and (counter2[i+1] < 150):\n",
        "          # payoff[i] = S_val[i,-1] - K\n",
        "          n = S_val[i+1,-1] - K\n",
        "      elif (S_val[i+1,-1] > K) and (counter1[i+1] < 100):\n",
        "          # payoff[i]= 10\n",
        "          n = 10\n",
        "      else:\n",
        "          n = 0\n",
        "      payoff[int(i/2)] = 0.5*p + 0.5*n\n",
        "  return S_val, payoff, counter1, counter2"
      ],
      "execution_count": 0,
      "outputs": []
    },
    {
      "cell_type": "code",
      "metadata": {
        "id": "gO3pvem2jF0w",
        "colab_type": "code",
        "colab": {}
      },
      "source": [
        "def Crude_Monte_Carlo_NPO(S = 60, K = 50, H1 = 65, H2 = 85, r = .05, T = 1,\n",
        "                          sigma = .3, n = 260, nr = 4000,\n",
        "                     nu = 1, dt=1):\n",
        "  '''\n",
        "  ~Numpy Optimized Option~\n",
        "  Remove the For Loops in Crude_Monte_Carlo()\n",
        "  \n",
        "  #####################################################\n",
        "  INPUTS:\n",
        "  S, K, H1, H2, r, T, sigma, n, nr have usual meanings\n",
        "  \n",
        "  #####################################################\n",
        "  OUTPUTS:\n",
        "  S_val    :\n",
        "  payoff   :\n",
        "  counter1 :\n",
        "  counter2 :\n",
        "  \n",
        "  '''\n",
        "  rand = np.random.randn(nr,n)\n",
        "  # simulate stock price via MC (and increment counters)\n",
        "  S_val = S * np.cumprod(np.exp((nu)*dt+sigma*np.sqrt(dt)*rand), axis=1)\n",
        "  counter1 = (S_val >= H1).sum(axis = 1)\n",
        "  counter2 = (S_val >= H2).sum(axis = 1)\n",
        "  # This is a 69.45x increase already! On a single thread!\n",
        "  # compute payoff of each sim\n",
        "  payoff = typed_payoff(S_val, counter1, counter2, K)\n",
        "  # This is a 4 ms decrease or 10% improvement on 41ms\n",
        "  # Using pre compiled code\n",
        "  return S_val, payoff, counter1, counter2"
      ],
      "execution_count": 0,
      "outputs": []
    },
    {
      "cell_type": "code",
      "metadata": {
        "id": "q7GtHyc1juCz",
        "colab_type": "code",
        "colab": {}
      },
      "source": [
        "def AVT_Monte_Carlo_NPO(S = 60, K = 50, H1 = 65, H2 = 85, r = .05, T = 1,\n",
        "                          sigma = .3, n = 260, nr = 4000,\n",
        "                     nu = 1, dt=1):\n",
        "  '''\n",
        "  ~Numpy Optimized Option Anthithetic Variates Technique~\n",
        "  Remove the For Loops in Crude_Monte_Carlo()\n",
        "  \n",
        "  #####################################################\n",
        "  INPUTS:\n",
        "  S, K, H1, H2, r, T, sigma, n, nr have usual meanings\n",
        "  \n",
        "  #####################################################\n",
        "  OUTPUTS:\n",
        "  S_val    :\n",
        "  payoff   :\n",
        "  counter1 :\n",
        "  counter2 :\n",
        "  \n",
        "  '''\n",
        "  # only need half of the random matrix:\n",
        "  rand = np.random.randn(int(nr/2),n)\n",
        "  # simulate stock price via MC (and increment counters)\n",
        "  # need positive and negative\n",
        "  S_val_p = S * np.cumprod(np.exp((nu)*dt+sigma*np.sqrt(dt)*rand), axis=1)\n",
        "  S_val_n = S * np.cumprod(np.exp((nu)*dt-sigma*np.sqrt(dt)*rand), axis=1)\n",
        "  # This is justified as we take the mean of payoff anyway, ie. 0.5*positive_path + 0.5*negative_path\n",
        "  S_val = np.append(S_val_p, S_val_n, axis = 0)\n",
        "  counter1 = (S_val >= H1).sum(axis = 1)\n",
        "  counter2 = (S_val >= H2).sum(axis = 1)\n",
        "  # compute payoff of each sim\n",
        "  payoff_p = typed_payoff(S_val[:int(nr/2),], counter1[:int(nr/2),], counter2[:int(nr/2),], K)\n",
        "  payoff_n = typed_payoff(S_val[int(nr/2):,], counter1[int(nr/2):,], counter2[int(nr/2):,], K)\n",
        "  payoff = 0.5*payoff_p + 0.5*payoff_n\n",
        "  # Using pre compiled code\n",
        "  return S_val, payoff, counter1, counter2\n"
      ],
      "execution_count": 0,
      "outputs": []
    },
    {
      "cell_type": "code",
      "metadata": {
        "id": "Bqhn_s12lvSp",
        "colab_type": "code",
        "colab": {}
      },
      "source": [
        "def Crude_Monte_Carlo_Torch(S = 60, K = 50, H1 = 65, H2 = 85, r = .05, T = 1,\n",
        "                          sigma = .3, n = 260, nr = 4000,\n",
        "                     nu = 1, dt=1):\n",
        "  '''\n",
        "  ~Pytorch~\n",
        "  Remove the For Loops in Crude_Monte_Carlo()\n",
        "  \n",
        "  #####################################################\n",
        "  INPUTS:\n",
        "  S, K, H1, H2, r, T, sigma, n, nr have usual meanings\n",
        "  \n",
        "  #####################################################\n",
        "  OUTPUTS:\n",
        "  S_val    :\n",
        "  payoff   :\n",
        "  counter1 :\n",
        "  counter2 :\n",
        "  \n",
        "  '''\n",
        "  _r = torch.tensor([float(r)], requires_grad = True)\n",
        "  _T = torch.tensor([float(T)], requires_grad = True)\n",
        "  _sigma = torch.tensor([float(sigma)], requires_grad = True)\n",
        "  _n = torch.tensor([float(n)], requires_grad = True)\n",
        "  _nr = torch.tensor([float(nr)], requires_grad = True)\n",
        "  \n",
        "  rand = torch.FloatTensor(nr, n).normal_(mean = 0, std = 1)\n",
        "\n",
        "  # for exponent (risk-neutral)\n",
        "  nu = _r - .5 * _sigma ** 2\n",
        "  dt = _T / _n\n",
        "  \n",
        "  # simulate stock price via MC (and increment counters)\n",
        "  S_val = S * torch.cumprod(torch.exp((nu)*dt+sigma*torch.sqrt(dt)*rand), dim=1)\n",
        "  # (S_val >= H1).sum(axis = 1)\n",
        "  counter1 = torch.sum(S_val >= H1, 1).detach().numpy()\n",
        "  counter2 = torch.sum(S_val >= H2, 1).detach().numpy()\n",
        "  #\n",
        "  del rand\n",
        "  S_val = S_val.detach().numpy()\n",
        "  # return S_val to numpy\n",
        "  payoff = typed_payoff(S_val, counter1, counter2, K)\n",
        "  # This is a 4 ms decrease or 10% improvement on 41ms\n",
        "  # Using pre compiled code\n",
        "  return S_val, payoff, counter1, counter2"
      ],
      "execution_count": 0,
      "outputs": []
    },
    {
      "cell_type": "code",
      "metadata": {
        "id": "8n4bTxUTZh3t",
        "colab_type": "code",
        "colab": {}
      },
      "source": [
        "def AVT_Monte_Carlo_Torch(S = 60, K = 50, H1 = 65, H2 = 85, r = .05, T = 1,\n",
        "                          sigma = .3, n = 260, nr = 4000,\n",
        "                     nu = 1, dt=1):\n",
        "  '''\n",
        "  ~Pytorch~\n",
        "  \n",
        "  #####################################################\n",
        "  INPUTS:\n",
        "  S, K, H1, H2, r, T, sigma, n, nr have usual meanings\n",
        "  \n",
        "  #####################################################\n",
        "  OUTPUTS:\n",
        "  S_val    :\n",
        "  payoff   :\n",
        "  counter1 :\n",
        "  counter2 :\n",
        "  \n",
        "  '''\n",
        "  _r = torch.tensor([float(r)], requires_grad = True)\n",
        "  _T = torch.tensor([float(T)], requires_grad = True)\n",
        "  _sigma = torch.tensor([float(sigma)], requires_grad = True)\n",
        "  _n = torch.tensor([float(n)], requires_grad = True)\n",
        "  _nr = torch.tensor([float(nr)], requires_grad = True)\n",
        "  \n",
        "  # for exponent (risk-neutral)\n",
        "  nu = _r - .5 * _sigma ** 2\n",
        "  dt = _T / _n\n",
        "  \n",
        "  rand = torch.FloatTensor((int(nr/2)), n).normal_(mean = 0, std = 1)\n",
        "                                            \n",
        "  S_val_p = S * torch.cumprod(torch.exp((nu)*dt+sigma*torch.sqrt(dt)*rand), dim=1)\n",
        "  S_val_n = S * torch.cumprod(torch.exp((nu)*dt-sigma*torch.sqrt(dt)*rand), dim=1)\n",
        "  S_val = torch.cat([S_val_p, S_val_n], dim=0)\n",
        "  counter1 = torch.sum(S_val >= H1, 1).detach().numpy()\n",
        "  counter2 = torch.sum(S_val >= H2, 1).detach().numpy()\n",
        "  #\n",
        "  del rand\n",
        "  S_val = S_val.detach().numpy()\n",
        "  # return S_val to numpy\n",
        "  payoff_p = typed_payoff(S_val[:int(nr/2),], counter1[:int(nr/2),], counter2[:int(nr/2),], K)\n",
        "  payoff_n = typed_payoff(S_val[int(nr/2):,], counter1[int(nr/2):,], counter2[int(nr/2):,], K)\n",
        "  payoff = 0.5*payoff_p + 0.5*payoff_n\n",
        "  # This is a 4 ms decrease or 10% improvement on 41ms\n",
        "  # Using pre compiled code\n",
        "  return S_val, payoff, counter1, counter2\n",
        "\n"
      ],
      "execution_count": 0,
      "outputs": []
    },
    {
      "cell_type": "code",
      "metadata": {
        "id": "lDobCDFOoswL",
        "colab_type": "code",
        "colab": {}
      },
      "source": [
        "def Crude_Monte_Carlo_Torch_GPU(S = 60, K = 50, H1 = 65, H2 = 85, r = .05, T = 1,\n",
        "                          sigma = .3, n = 260, nr = 4000,\n",
        "                     nu = 1, dt=1):\n",
        "  '''\n",
        "  ~Pytorch~\n",
        "  Remove the For Loops in Crude_Monte_Carlo()\n",
        "  \n",
        "  #####################################################\n",
        "  INPUTS:\n",
        "  S, K, H1, H2, r, T, sigma, n, nr have usual meanings\n",
        "  \n",
        "  #####################################################\n",
        "  OUTPUTS:\n",
        "  S_val    :\n",
        "  payoff   :\n",
        "  counter1 :\n",
        "  counter2 :\n",
        "  \n",
        "  '''\n",
        "  _r = torch.tensor([float(r)], requires_grad = True, device = 'cuda')\n",
        "  _T = torch.tensor([float(T)], requires_grad = True, device = 'cuda')\n",
        "  _sigma = torch.tensor([float(sigma)], requires_grad = True, device = 'cuda')\n",
        "  _n = torch.tensor([float(n)], requires_grad = True, device = 'cuda')\n",
        "  _nr = torch.tensor([float(nr)], requires_grad = True, device = 'cuda')\n",
        "  \n",
        "  \n",
        "  rand = torch.cuda.FloatTensor(nr, n).normal_(mean = 0, std = 1)\n",
        "\n",
        "  # for exponent (risk-neutral)\n",
        "  nu = _r - .5 * _sigma ** 2\n",
        "  dt = _T / _n\n",
        "  \n",
        "  # simulate stock price via MC (and increment counters)\n",
        "  S_val = S * torch.cumprod(torch.exp((nu)*dt+sigma*torch.sqrt(dt)*rand), dim=1)\n",
        "  # (S_val >= H1).sum(axis = 1)\n",
        "  counter1 = torch.sum(S_val >= H1, 1).cpu().detach().numpy()\n",
        "  counter2 = torch.sum(S_val >= H2, 1).cpu().detach().numpy()\n",
        "  #\n",
        "  del rand\n",
        "  S_val = S_val.cpu().detach().numpy()\n",
        "  # return S_val to numpy\n",
        "  payoff = typed_payoff(S_val, counter1, counter2, K)\n",
        "  # This is a 4 ms decrease or 10% improvement on 41ms\n",
        "  # Using pre compiled code\n",
        "  return S_val, payoff, counter1, counter2"
      ],
      "execution_count": 0,
      "outputs": []
    },
    {
      "cell_type": "code",
      "metadata": {
        "id": "Kmc12wc0ovOt",
        "colab_type": "code",
        "colab": {}
      },
      "source": [
        "def AVT_Monte_Carlo_Torch_GPU(S = 60, K = 50, H1 = 65, H2 = 85, r = .05, T = 1,\n",
        "                          sigma = .3, n = 260, nr = 4000,\n",
        "                     nu = 1, dt=1):\n",
        "  '''\n",
        "  ~Pytorch~\n",
        "  Remove the For Loops in Crude_Monte_Carlo()\n",
        "  \n",
        "  #####################################################\n",
        "  INPUTS:\n",
        "  S, K, H1, H2, r, T, sigma, n, nr have usual meanings\n",
        "  \n",
        "  #####################################################\n",
        "  OUTPUTS:\n",
        "  S_val    :\n",
        "  payoff   :\n",
        "  counter1 :\n",
        "  counter2 :\n",
        "  \n",
        "  '''\n",
        "  _r = torch.tensor([float(r)], requires_grad = True, device = 'cuda')\n",
        "  _T = torch.tensor([float(T)], requires_grad = True, device = 'cuda')\n",
        "  _sigma = torch.tensor([float(sigma)], requires_grad = True, device = 'cuda')\n",
        "  _n = torch.tensor([float(n)], requires_grad = True, device = 'cuda')\n",
        "  _nr = torch.tensor([float(nr)], requires_grad = True, device = 'cuda')\n",
        "  \n",
        "  \n",
        "  rand = torch.cuda.FloatTensor((int(nr/2)), n).normal_(mean = 0, std = 1)\n",
        "  \n",
        "  # for exponent (risk-neutral)\n",
        "  nu = _r - .5 * _sigma ** 2\n",
        "  dt = _T / _n\n",
        "  \n",
        "  # simulate stock price via MC (and increment counters)\n",
        "  S_val_p = S * torch.cumprod(torch.exp((nu)*dt+sigma*torch.sqrt(dt)*rand), dim=1)\n",
        "  S_val_n = S * torch.cumprod(torch.exp((nu)*dt-sigma*torch.sqrt(dt)*rand), dim=1)\n",
        "  S_val = torch.cat([S_val_p, S_val_n], dim=0)\n",
        "  # (S_val >= H1).sum(axis = 1)\n",
        "  counter1 = torch.sum(S_val >= H1, 1).cpu().detach().numpy()\n",
        "  counter2 = torch.sum(S_val >= H2, 1).cpu().detach().numpy()\n",
        "  # \n",
        "  S_val = S_val.cpu().detach().numpy()\n",
        "  del rand\n",
        "  # return S_val to numpy\n",
        "  payoff_p = typed_payoff(S_val[:int(nr/2),], counter1[:int(nr/2),], counter2[:int(nr/2),], K)\n",
        "  payoff_n = typed_payoff(S_val[int(nr/2):,], counter1[int(nr/2):,], counter2[int(nr/2):,], K)\n",
        "  payoff = 0.5*payoff_p + 0.5*payoff_n\n",
        "  return S_val, payoff, counter1, counter2"
      ],
      "execution_count": 0,
      "outputs": []
    },
    {
      "cell_type": "markdown",
      "metadata": {
        "id": "qpvnsJcSjhO6",
        "colab_type": "text"
      },
      "source": [
        "### Master Function"
      ]
    },
    {
      "cell_type": "code",
      "metadata": {
        "id": "0fD-fAxOZdEX",
        "colab_type": "code",
        "colab": {}
      },
      "source": [
        "def Barrier_Option_Pricer(S = 60, K = 50, H1 = 65, H2 = 85, r = .05, T = 1,\n",
        "                          sigma = .3, n = 260, nr = 4000,\n",
        "                          plot = False, Var_red = 0, pr = 0,\n",
        "                         ret = 0):\n",
        "  '''\n",
        "  #####################################################\n",
        "  Helper Function for interpreting user preferences for\n",
        "  Plotting and Variance Reduction.\n",
        "  \n",
        "  Intended for simplifying process of running the\n",
        "  pricer for different numbers of simulations etc\n",
        "  #####################################################\n",
        "  INPUTS:\n",
        "  S, K, H1, H2, r, T, sigma, n, nr have usual meanings\n",
        "  \n",
        "  plot   : Whether the function plots or not # not implemented as of 4-April\n",
        "  Var_red: Which Variance Reduction Technique to use:\n",
        "            = 0: Crude Monte Carlo Pricer used\n",
        "            = 1: Antithetic Variates Technique used\n",
        "  \n",
        "  '''\n",
        "  # for exponent (risk-neutral)\n",
        "  nu = r - .5 * sigma ** 2\n",
        "  dt = T / n\n",
        "  \n",
        "  # Payoff matrix is dependent on the choice\n",
        "  # of variance reduction technique\n",
        "  \n",
        "  if Var_red == 0:\n",
        "      S_val, payoff, counter1, counter2 = Crude_Monte_Carlo(S = S, K = K, H1 = H1, H2 = H2, r = r, T = T,\n",
        "                          sigma = sigma, n = n, nr = nr,\n",
        "                     nu = nu, dt=dt)\n",
        "      \n",
        "  elif Var_red == 1:\n",
        "      S_val, payoff, counter1, counter2 = AVT_Monte_Carlo(S = S, K = K, H1 = H1, H2 = H2, r = r, T = T,\n",
        "                          sigma = sigma, n = n, nr = nr,\n",
        "                     nu = nu, dt=dt)\n",
        "  elif Var_red == 2:\n",
        "      S_val, payoff, counter1, counter2 = Crude_Monte_Carlo_NPO(S = S, K = K, H1 = H1, H2 = H2, r = r, T = T,\n",
        "                          sigma = sigma, n = n, nr = nr,\n",
        "                     nu = nu, dt=dt)\n",
        "  elif Var_red == 3:\n",
        "      S_val, payoff, counter1, counter2 = AVT_Monte_Carlo_NPO(S = S, K = K, H1 = H1, H2 = H2, r = r, T = T,\n",
        "                          sigma = sigma, n = n, nr = nr,\n",
        "                     nu = nu, dt=dt)\n",
        "  elif Var_red == 4:\n",
        "      S_val, payoff, counter1, counter2 = Crude_Monte_Carlo_Torch(S = S, K = K, H1 = H1, H2 = H2, r = r, T = T,\n",
        "                          sigma = sigma, n = n, nr = nr,\n",
        "                     nu = nu, dt=dt)\n",
        "  elif Var_red == 5:\n",
        "      S_val, payoff, counter1, counter2 = AVT_Monte_Carlo_Torch(S = S, K = K, H1 = H1, H2 = H2, r = r, T = T,\n",
        "                          sigma = sigma, n = n, nr = nr,\n",
        "                     nu = nu, dt=dt)\n",
        "  elif Var_red == 6:\n",
        "      '''\n",
        "      Warning: Must Have CUDA device available that supports Pytorch 1.0 !!!\n",
        "      '''\n",
        "      S_val, payoff, counter1, counter2 = Crude_Monte_Carlo_Torch_GPU(S = S, K = K, H1 = H1, H2 = H2, r = r, T = T,\n",
        "                          sigma = sigma, n = n, nr = nr,\n",
        "                     nu = nu, dt=dt)\n",
        "  elif Var_red == 7:\n",
        "      '''\n",
        "      Warning: Must Have CUDA device available that supports Pytorch 1.0 !!!\n",
        "      '''\n",
        "      S_val, payoff, counter1, counter2 = AVT_Monte_Carlo_Torch_GPU(S = S, K = K, H1 = H1, H2 = H2, r = r, T = T,\n",
        "                          sigma = sigma, n = n, nr = nr,\n",
        "                     nu = nu, dt=dt)\n",
        "  \n",
        "  PDisc = m.exp(-r*T)* payoff\n",
        "\n",
        "  # mean & std for price\n",
        "  price = PDisc.mean()\n",
        "  p_std = np.std(PDisc)\n",
        "\n",
        "  # mean & std for counters\n",
        "  ave1 = counter1.mean()\n",
        "  std1 = np.std(counter1)\n",
        "\n",
        "  ave2 = counter2.mean()\n",
        "  std2 = np.std(counter2)\n",
        "  \n",
        "  # to save GPU RAM\n",
        "  del S_val, counter1, counter2\n",
        "  \n",
        "  if pr == 1:\n",
        "    print(\"Counter1: \\t Ave = {} \\t Std Dev = {}\".format(round(ave1,10),round(std1,10)))\n",
        "    print(\"Counter2: \\t Ave = {} \\t Std Dev = {}\\n\".format(round(ave2,10),round(std2,10)))\n",
        "\n",
        "    print(\"Price: \\t Ave = ${} \\t Std Dev = ${}\".format(round(price,10),round(p_std,10)))\n",
        "  if ret == 1:\n",
        "    return ave1, std1, ave2, std2, price, p_std"
      ],
      "execution_count": 0,
      "outputs": []
    },
    {
      "cell_type": "markdown",
      "metadata": {
        "id": "b8--4jMZakJS",
        "colab_type": "text"
      },
      "source": [
        "## Demo"
      ]
    },
    {
      "cell_type": "code",
      "metadata": {
        "id": "LDrCrOhIkYg4",
        "colab_type": "code",
        "outputId": "49d7791e-b0c2-4403-983a-269dc85a541e",
        "colab": {
          "base_uri": "https://localhost:8080/",
          "height": 104
        }
      },
      "source": [
        "start = time.time()\n",
        "Barrier_Option_Pricer(Var_red = 7, nr = 1000000, pr =1)\n",
        "print(\"Time taken: {}\".format(time.time()-start))"
      ],
      "execution_count": 0,
      "outputs": [
        {
          "output_type": "stream",
          "text": [
            "Counter1: \t Ave = 84.519872 \t Std Dev = 85.0980926996\n",
            "Counter2: \t Ave = 14.023635 \t Std Dev = 36.2855137264\n",
            "\n",
            "Price: \t Ave = $14.5478898772 \t Std Dev = $7.8396019724\n",
            "Time taken: 10.89088225364685\n"
          ],
          "name": "stdout"
        }
      ]
    },
    {
      "cell_type": "markdown",
      "metadata": {
        "id": "MAoroUo1sb6y",
        "colab_type": "text"
      },
      "source": [
        "# Benchmarking"
      ]
    },
    {
      "cell_type": "markdown",
      "metadata": {
        "id": "X2wcvLvuarsi",
        "colab_type": "text"
      },
      "source": [
        "## Compare Each Method"
      ]
    },
    {
      "cell_type": "code",
      "metadata": {
        "id": "CyFXve_1seFi",
        "colab_type": "code",
        "colab": {}
      },
      "source": [
        "# number of steps to compare, N\n",
        "N = 3\n",
        "# generate results for 1000 to 100000 paths\n",
        "paths = np.linspace(1, 10, N, endpoint=True)\n",
        "paths = 1000*np.around(paths **2)\n",
        "methods = [0,1,2,3,4,5,6,7]\n",
        "import time\n",
        "start = time.time()\n",
        "\n",
        "results = np.zeros((len(paths), len(methods)))\n",
        "for path in range(len(paths)):\n",
        "  for method in range(len(methods)):\n",
        "    start = time.time()\n",
        "    Barrier_Option_Pricer(Var_red = methods[method], nr = int(round(paths[path])))\n",
        "    results[path,method] = time.time() - start"
      ],
      "execution_count": 0,
      "outputs": []
    },
    {
      "cell_type": "markdown",
      "metadata": {
        "id": "bs-OJ-uG507i",
        "colab_type": "text"
      },
      "source": [
        "## Plots"
      ]
    },
    {
      "cell_type": "code",
      "metadata": {
        "id": "eay8Wnw4dTD_",
        "colab_type": "code",
        "outputId": "c3247db3-944e-43ab-bbdb-92fdf7b139f2",
        "colab": {
          "base_uri": "https://localhost:8080/",
          "height": 320
        }
      },
      "source": [
        "results_df.describe()"
      ],
      "execution_count": 0,
      "outputs": [
        {
          "output_type": "execute_result",
          "data": {
            "text/html": [
              "<div>\n",
              "<style scoped>\n",
              "    .dataframe tbody tr th:only-of-type {\n",
              "        vertical-align: middle;\n",
              "    }\n",
              "\n",
              "    .dataframe tbody tr th {\n",
              "        vertical-align: top;\n",
              "    }\n",
              "\n",
              "    .dataframe thead th {\n",
              "        text-align: right;\n",
              "    }\n",
              "</style>\n",
              "<table border=\"1\" class=\"dataframe\">\n",
              "  <thead>\n",
              "    <tr style=\"text-align: right;\">\n",
              "      <th></th>\n",
              "      <th>0</th>\n",
              "      <th>1</th>\n",
              "      <th>2</th>\n",
              "      <th>3</th>\n",
              "      <th>4</th>\n",
              "      <th>5</th>\n",
              "      <th>6</th>\n",
              "      <th>7</th>\n",
              "    </tr>\n",
              "  </thead>\n",
              "  <tbody>\n",
              "    <tr>\n",
              "      <th>count</th>\n",
              "      <td>3.000000</td>\n",
              "      <td>3.000000</td>\n",
              "      <td>3.000000</td>\n",
              "      <td>3.000000</td>\n",
              "      <td>3.000000</td>\n",
              "      <td>3.000000</td>\n",
              "      <td>3.000000</td>\n",
              "      <td>3.000000</td>\n",
              "    </tr>\n",
              "    <tr>\n",
              "      <th>mean</th>\n",
              "      <td>30.727913</td>\n",
              "      <td>33.386063</td>\n",
              "      <td>0.873765</td>\n",
              "      <td>0.679175</td>\n",
              "      <td>0.569453</td>\n",
              "      <td>0.544603</td>\n",
              "      <td>0.252393</td>\n",
              "      <td>0.247894</td>\n",
              "    </tr>\n",
              "    <tr>\n",
              "      <th>std</th>\n",
              "      <td>35.777369</td>\n",
              "      <td>38.771566</td>\n",
              "      <td>1.009532</td>\n",
              "      <td>0.779033</td>\n",
              "      <td>0.651278</td>\n",
              "      <td>0.614972</td>\n",
              "      <td>0.290914</td>\n",
              "      <td>0.282044</td>\n",
              "    </tr>\n",
              "    <tr>\n",
              "      <th>min</th>\n",
              "      <td>0.808870</td>\n",
              "      <td>0.855177</td>\n",
              "      <td>0.024587</td>\n",
              "      <td>0.013984</td>\n",
              "      <td>0.018236</td>\n",
              "      <td>0.012323</td>\n",
              "      <td>0.008400</td>\n",
              "      <td>0.007128</td>\n",
              "    </tr>\n",
              "    <tr>\n",
              "      <th>25%</th>\n",
              "      <td>10.912652</td>\n",
              "      <td>11.934741</td>\n",
              "      <td>0.315665</td>\n",
              "      <td>0.250659</td>\n",
              "      <td>0.210129</td>\n",
              "      <td>0.208003</td>\n",
              "      <td>0.091417</td>\n",
              "      <td>0.092739</td>\n",
              "    </tr>\n",
              "    <tr>\n",
              "      <th>50%</th>\n",
              "      <td>21.016433</td>\n",
              "      <td>23.014306</td>\n",
              "      <td>0.606743</td>\n",
              "      <td>0.487334</td>\n",
              "      <td>0.402021</td>\n",
              "      <td>0.403683</td>\n",
              "      <td>0.174435</td>\n",
              "      <td>0.178349</td>\n",
              "    </tr>\n",
              "    <tr>\n",
              "      <th>75%</th>\n",
              "      <td>45.687434</td>\n",
              "      <td>49.651506</td>\n",
              "      <td>1.298355</td>\n",
              "      <td>1.011770</td>\n",
              "      <td>0.845061</td>\n",
              "      <td>0.810743</td>\n",
              "      <td>0.374389</td>\n",
              "      <td>0.368277</td>\n",
              "    </tr>\n",
              "    <tr>\n",
              "      <th>max</th>\n",
              "      <td>70.358435</td>\n",
              "      <td>76.288706</td>\n",
              "      <td>1.989966</td>\n",
              "      <td>1.536206</td>\n",
              "      <td>1.288100</td>\n",
              "      <td>1.217804</td>\n",
              "      <td>0.574343</td>\n",
              "      <td>0.558206</td>\n",
              "    </tr>\n",
              "  </tbody>\n",
              "</table>\n",
              "</div>"
            ],
            "text/plain": [
              "               0          1         2  ...         5         6         7\n",
              "count   3.000000   3.000000  3.000000  ...  3.000000  3.000000  3.000000\n",
              "mean   30.727913  33.386063  0.873765  ...  0.544603  0.252393  0.247894\n",
              "std    35.777369  38.771566  1.009532  ...  0.614972  0.290914  0.282044\n",
              "min     0.808870   0.855177  0.024587  ...  0.012323  0.008400  0.007128\n",
              "25%    10.912652  11.934741  0.315665  ...  0.208003  0.091417  0.092739\n",
              "50%    21.016433  23.014306  0.606743  ...  0.403683  0.174435  0.178349\n",
              "75%    45.687434  49.651506  1.298355  ...  0.810743  0.374389  0.368277\n",
              "max    70.358435  76.288706  1.989966  ...  1.217804  0.574343  0.558206\n",
              "\n",
              "[8 rows x 8 columns]"
            ]
          },
          "metadata": {
            "tags": []
          },
          "execution_count": 19
        }
      ]
    },
    {
      "cell_type": "markdown",
      "metadata": {
        "id": "fP4qKlAFbmpn",
        "colab_type": "text"
      },
      "source": [
        "### Full Comparison"
      ]
    },
    {
      "cell_type": "code",
      "metadata": {
        "id": "Rgwxwcaq2b53",
        "colab_type": "code",
        "outputId": "8184bbb0-294f-4ca6-ba7c-679c6b4774d0",
        "colab": {
          "base_uri": "https://localhost:8080/",
          "height": 300
        }
      },
      "source": [
        "paths = np.linspace(1, 10, N, endpoint=True)\n",
        "paths = 1000*np.around(paths **2)\n",
        "\n",
        "results_df = pd.DataFrame(data = results, index = (paths), columns = methods)\n",
        "\n",
        "methods = results_df.columns\n",
        "\n",
        "labels = ['Crude Monte Carlo',\n",
        "         'Antithetic Variates Technique Monte Carlo',\n",
        "         'NPO Crude Monte Carlo',\n",
        "         'NPO Antithetic Variates Technique Monte Carlo',\n",
        "         'PyTorch Crude Monte Carlo',\n",
        "         'PyTorch AVT Monte Carlo',\n",
        "         'PyTorch Crude Monte Carlo: GPU',\n",
        "         'PyTorch AVT Monte Carlo: GPU']\n",
        "\n",
        "\n",
        "\n",
        "colors = ['red', 'orange', 'yellow', 'green', 'blue', 'indigo', 'violet', 'brown']\n",
        "\n",
        "for method,c, label in zip(methods, colors, labels):\n",
        "  plt.plot(paths, results_df[method], color = c, label = label)\n",
        "plt.legend()\n",
        "plt.ylabel('Time (Seconds)')\n",
        "plt.xlabel('Number of Paths Simulated')"
      ],
      "execution_count": 0,
      "outputs": [
        {
          "output_type": "execute_result",
          "data": {
            "text/plain": [
              "Text(0.5, 0, 'Number of Paths Simulated')"
            ]
          },
          "metadata": {
            "tags": []
          },
          "execution_count": 23
        },
        {
          "output_type": "display_data",
          "data": {
            "image/png": "[encoded data removed]",
            "text/plain": [
              "<Figure size 432x288 with 1 Axes>"
            ]
          },
          "metadata": {
            "tags": []
          }
        }
      ]
    },
    {
      "cell_type": "markdown",
      "metadata": {
        "id": "GShU86lvbpw-",
        "colab_type": "text"
      },
      "source": [
        "### Compare Torch and Numpy Optimised only "
      ]
    },
    {
      "cell_type": "code",
      "metadata": {
        "id": "37pFbckY1U9d",
        "colab_type": "code",
        "outputId": "ddb9433f-46c2-479e-e437-fff01561fc64",
        "colab": {
          "base_uri": "https://localhost:8080/",
          "height": 300
        }
      },
      "source": [
        "for method,c, label in zip(methods[2:], colors[2:], labels[2:]):\n",
        "  plt.plot(paths, results_df[method], color = c, label = label)\n",
        "plt.legend()\n",
        "plt.ylabel('Time (Seconds)')\n",
        "plt.xlabel('Number of Paths Simulated')"
      ],
      "execution_count": 0,
      "outputs": [
        {
          "output_type": "execute_result",
          "data": {
            "text/plain": [
              "Text(0.5, 0, 'Number of Paths Simulated')"
            ]
          },
          "metadata": {
            "tags": []
          },
          "execution_count": 25
        },
        {
          "output_type": "display_data",
          "data": {
            "image/png": "[encoded data removed]",
            "text/plain": [
              "<Figure size 432x288 with 1 Axes>"
            ]
          },
          "metadata": {
            "tags": []
          }
        }
      ]
    },
    {
      "cell_type": "markdown",
      "metadata": {
        "id": "q6zH_EBr2Uc5",
        "colab_type": "text"
      },
      "source": [
        "# Absolute Minimum Error answer"
      ]
    },
    {
      "cell_type": "markdown",
      "metadata": {
        "id": "FNzdXy-vb6cL",
        "colab_type": "text"
      },
      "source": [
        "## To combine estimates from multiple runs"
      ]
    },
    {
      "cell_type": "code",
      "metadata": {
        "id": "RG1DKASK2-qN",
        "colab_type": "code",
        "outputId": "778d03ef-02f6-42f7-ba49-500288d5b0f9",
        "colab": {
          "base_uri": "https://localhost:8080/",
          "height": 35
        }
      },
      "source": [
        "# store the results in an array\n",
        "start = time.time()\n",
        "torch.cuda.empty_cache()\n",
        "iters = 100\n",
        "paths = 1000000\n",
        "best_estimate_arr = np.zeros((iters, 6)) #6 columns of data\n",
        "cols = ['ave1', 'std1', 'ave2', 'std2', 'price', 'p_std']\n",
        "for i in range(iters):\n",
        "  best_estimate_arr[i] = Barrier_Option_Pricer(ret = 1, Var_red = 7, nr = paths, pr =0)\n",
        "  torch.cuda.empty_cache()\n",
        "best_estimate_df = pd.DataFrame(data = best_estimate_arr, index = list(range(iters)), columns = cols)\n",
        "best_estimate_df.to_csv('minimum_error.csv')\n",
        "print(\"Time elapsed: {}\".format(time.time()-start))"
      ],
      "execution_count": 0,
      "outputs": [
        {
          "output_type": "stream",
          "text": [
            "Time elapsed: 596.7026634216309\n"
          ],
          "name": "stdout"
        }
      ]
    },
    {
      "cell_type": "code",
      "metadata": {
        "id": "IyI_rhmdFFGt",
        "colab_type": "code",
        "outputId": "52fc6b4f-b2bd-4c14-832d-db82ffb0e80e",
        "colab": {
          "base_uri": "https://localhost:8080/",
          "height": 336
        }
      },
      "source": [
        "print(\"Best estimate of price: {}\\nAfter {} paths simulated\".format(best_estimate_df['price'].mean(), iters*paths))\n",
        "best_estimate_df.describe()"
      ],
      "execution_count": 0,
      "outputs": [
        {
          "output_type": "stream",
          "text": [
            "Best estimate of price: 14.548767451794056\n",
            "After 100000000 paths simulated\n"
          ],
          "name": "stdout"
        },
        {
          "output_type": "execute_result",
          "data": {
            "text/html": [
              "<div>\n",
              "<style scoped>\n",
              "    .dataframe tbody tr th:only-of-type {\n",
              "        vertical-align: middle;\n",
              "    }\n",
              "\n",
              "    .dataframe tbody tr th {\n",
              "        vertical-align: top;\n",
              "    }\n",
              "\n",
              "    .dataframe thead th {\n",
              "        text-align: right;\n",
              "    }\n",
              "</style>\n",
              "<table border=\"1\" class=\"dataframe\">\n",
              "  <thead>\n",
              "    <tr style=\"text-align: right;\">\n",
              "      <th></th>\n",
              "      <th>ave1</th>\n",
              "      <th>std1</th>\n",
              "      <th>ave2</th>\n",
              "      <th>std2</th>\n",
              "      <th>price</th>\n",
              "      <th>p_std</th>\n",
              "    </tr>\n",
              "  </thead>\n",
              "  <tbody>\n",
              "    <tr>\n",
              "      <th>count</th>\n",
              "      <td>100.000000</td>\n",
              "      <td>100.000000</td>\n",
              "      <td>100.000000</td>\n",
              "      <td>100.000000</td>\n",
              "      <td>100.000000</td>\n",
              "      <td>100.000000</td>\n",
              "    </tr>\n",
              "    <tr>\n",
              "      <th>mean</th>\n",
              "      <td>84.503787</td>\n",
              "      <td>85.086907</td>\n",
              "      <td>14.011870</td>\n",
              "      <td>36.273673</td>\n",
              "      <td>14.548767</td>\n",
              "      <td>7.857207</td>\n",
              "    </tr>\n",
              "    <tr>\n",
              "      <th>std</th>\n",
              "      <td>0.036032</td>\n",
              "      <td>0.041725</td>\n",
              "      <td>0.036232</td>\n",
              "      <td>0.063989</td>\n",
              "      <td>0.011520</td>\n",
              "      <td>0.018144</td>\n",
              "    </tr>\n",
              "    <tr>\n",
              "      <th>min</th>\n",
              "      <td>84.401734</td>\n",
              "      <td>84.993434</td>\n",
              "      <td>13.897128</td>\n",
              "      <td>36.073781</td>\n",
              "      <td>14.516564</td>\n",
              "      <td>7.806746</td>\n",
              "    </tr>\n",
              "    <tr>\n",
              "      <th>25%</th>\n",
              "      <td>84.482158</td>\n",
              "      <td>85.054380</td>\n",
              "      <td>13.986759</td>\n",
              "      <td>36.223772</td>\n",
              "      <td>14.540977</td>\n",
              "      <td>7.844174</td>\n",
              "    </tr>\n",
              "    <tr>\n",
              "      <th>50%</th>\n",
              "      <td>84.502964</td>\n",
              "      <td>85.088126</td>\n",
              "      <td>14.012097</td>\n",
              "      <td>36.283290</td>\n",
              "      <td>14.549025</td>\n",
              "      <td>7.855800</td>\n",
              "    </tr>\n",
              "    <tr>\n",
              "      <th>75%</th>\n",
              "      <td>84.529206</td>\n",
              "      <td>85.118546</td>\n",
              "      <td>14.040595</td>\n",
              "      <td>36.325549</td>\n",
              "      <td>14.555588</td>\n",
              "      <td>7.872207</td>\n",
              "    </tr>\n",
              "    <tr>\n",
              "      <th>max</th>\n",
              "      <td>84.588001</td>\n",
              "      <td>85.191682</td>\n",
              "      <td>14.089767</td>\n",
              "      <td>36.412102</td>\n",
              "      <td>14.576226</td>\n",
              "      <td>7.894280</td>\n",
              "    </tr>\n",
              "  </tbody>\n",
              "</table>\n",
              "</div>"
            ],
            "text/plain": [
              "             ave1        std1        ave2        std2       price       p_std\n",
              "count  100.000000  100.000000  100.000000  100.000000  100.000000  100.000000\n",
              "mean    84.503787   85.086907   14.011870   36.273673   14.548767    7.857207\n",
              "std      0.036032    0.041725    0.036232    0.063989    0.011520    0.018144\n",
              "min     84.401734   84.993434   13.897128   36.073781   14.516564    7.806746\n",
              "25%     84.482158   85.054380   13.986759   36.223772   14.540977    7.844174\n",
              "50%     84.502964   85.088126   14.012097   36.283290   14.549025    7.855800\n",
              "75%     84.529206   85.118546   14.040595   36.325549   14.555588    7.872207\n",
              "max     84.588001   85.191682   14.089767   36.412102   14.576226    7.894280"
            ]
          },
          "metadata": {
            "tags": []
          },
          "execution_count": 23
        }
      ]
    },
    {
      "cell_type": "code",
      "metadata": {
        "id": "tOQXQRh2FcYv",
        "colab_type": "code",
        "outputId": "8133eabb-57e1-4635-9f9e-4d5fc339ccd6",
        "colab": {
          "base_uri": "https://localhost:8080/",
          "height": 378
        }
      },
      "source": [
        "plt.hist(best_estimate_df['price'],bins = 10, density = True)\n"
      ],
      "execution_count": 0,
      "outputs": [
        {
          "output_type": "execute_result",
          "data": {
            "text/plain": [
              "(array([ 1.28806039,  5.50353075, 18.73542384, 30.91344934, 33.48957012,\n",
              "        19.32090584,  6.20610915,  1.28806039,  0.2341928 ,  0.1170964 ]),\n",
              " array([14.51539612, 14.5239361 , 14.53247607, 14.54101604, 14.54955601,\n",
              "        14.55809598, 14.56663596, 14.57517593, 14.5837159 , 14.59225587,\n",
              "        14.60079585]),\n",
              " <a list of 10 Patch objects>)"
            ]
          },
          "metadata": {
            "tags": []
          },
          "execution_count": 31
        },
        {
          "output_type": "display_data",
          "data": {
            "image/png": "[encoded data removed]",
            "text/plain": [
              "<Figure size 432x288 with 1 Axes>"
            ]
          },
          "metadata": {
            "tags": []
          }
        }
      ]
    },
    {
      "cell_type": "code",
      "metadata": {
        "id": "vLh_nacZH64k",
        "colab_type": "code",
        "outputId": "d5e92dfd-1032-4812-dcb1-7cdbc67d332e",
        "colab": {
          "base_uri": "https://localhost:8080/",
          "height": 313
        }
      },
      "source": [
        "plt.boxplot(best_estimate_df['price'])\n",
        "plt.title('Distribution of mean price over {} paths'.format(iters*paths))\n",
        "plt.ylabel('Mean Option Price')\n",
        "plt.xlabel('Mean Option Price Distribution')"
      ],
      "execution_count": 0,
      "outputs": [
        {
          "output_type": "execute_result",
          "data": {
            "text/plain": [
              "Text(0.5, 0, 'Mean Option Price Distribution')"
            ]
          },
          "metadata": {
            "tags": []
          },
          "execution_count": 32
        },
        {
          "output_type": "display_data",
          "data": {
            "image/png": "[encoded data removed]",
            "text/plain": [
              "<Figure size 432x288 with 1 Axes>"
            ]
          },
          "metadata": {
            "tags": []
          }
        }
      ]
    }
  ]
}